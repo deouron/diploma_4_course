{
 "cells": [
  {
   "cell_type": "markdown",
   "metadata": {},
   "source": [
    "# Загрузка данных"
   ]
  },
  {
   "cell_type": "code",
   "execution_count": 1,
   "metadata": {},
   "outputs": [
    {
     "name": "stderr",
     "output_type": "stream",
     "text": [
      "Загрузка MRI-изображений: 100%|██████████| 582/582 [01:59<00:00,  4.85it/s]\n"
     ]
    }
   ],
   "source": [
    "import nibabel as nib\n",
    "import numpy as np\n",
    "import os\n",
    "from tqdm import tqdm\n",
    "from skimage.transform import resize\n",
    "\n",
    "data_dir = './data/'\n",
    "target_shape = (128, 128, 64)\n",
    "\n",
    "def load_mri_images(data_dir):\n",
    "    images = []\n",
    "    file_list = [f for f in os.listdir(data_dir) if f.endswith('.nii') or f.endswith('.nii.gz')]\n",
    "    \n",
    "    for file_name in tqdm(file_list, desc=\"Загрузка MRI-изображений\"):\n",
    "        img_path = os.path.join(data_dir, file_name)\n",
    "        img = nib.load(img_path)\n",
    "        img_data = img.get_fdata()\n",
    "\n",
    "        img_resized = resize(img_data, target_shape, anti_aliasing=True)\n",
    "\n",
    "        # Преобразуем в 1D-вектор\n",
    "        img_vector = img_resized.flatten()\n",
    "        images.append(img_vector)\n",
    "    \n",
    "    return np.array(images)\n",
    "\n",
    "mri_data = load_mri_images(data_dir)\n"
   ]
  },
  {
   "cell_type": "code",
   "execution_count": 27,
   "metadata": {},
   "outputs": [
    {
     "data": {
      "text/plain": [
       "array([[0.        , 0.        , 0.        , ..., 0.        , 0.        ,\n",
       "        0.        ],\n",
       "       [0.        , 0.        , 0.        , ..., 0.        , 0.        ,\n",
       "        0.        ],\n",
       "       [0.        , 0.        , 0.        , ..., 0.        , 0.        ,\n",
       "        0.        ],\n",
       "       ...,\n",
       "       [0.        , 0.        , 0.        , ..., 0.        , 0.        ,\n",
       "        0.        ],\n",
       "       [0.        , 0.        , 0.        , ..., 0.        , 0.        ,\n",
       "        0.        ],\n",
       "       [0.15093398, 0.06666725, 0.01599847, ..., 0.        , 0.        ,\n",
       "        0.        ]])"
      ]
     },
     "execution_count": 27,
     "metadata": {},
     "output_type": "execute_result"
    }
   ],
   "source": [
    "mri_data"
   ]
  },
  {
   "cell_type": "markdown",
   "metadata": {},
   "source": [
    "# Топологические методы анализа данных"
   ]
  },
  {
   "cell_type": "code",
   "execution_count": null,
   "metadata": {},
   "outputs": [],
   "source": [
    "!pip install gudhi"
   ]
  },
  {
   "cell_type": "code",
   "execution_count": null,
   "metadata": {},
   "outputs": [],
   "source": [
    "!pip install ripser"
   ]
  },
  {
   "cell_type": "code",
   "execution_count": null,
   "metadata": {},
   "outputs": [],
   "source": [
    "!pip install tadasets"
   ]
  },
  {
   "cell_type": "code",
   "execution_count": 7,
   "metadata": {},
   "outputs": [],
   "source": [
    "import matplotlib.pyplot as plt\n",
    "import ripser\n",
    "import persim\n",
    "from sklearn.decomposition import PCA\n",
    "from scipy.spatial.distance import pdist, squareform\n",
    "import gudhi as gd\n",
    "from gudhi.representations import Landscape, Silhouette, PersistenceImage\n",
    "import tadasets\n",
    "from sklearn.ensemble import RandomForestClassifier\n",
    "from sklearn.model_selection import train_test_split\n",
    "from sklearn.metrics import accuracy_score, classification_report\n",
    "import networkx as nx"
   ]
  },
  {
   "cell_type": "code",
   "execution_count": 43,
   "metadata": {},
   "outputs": [],
   "source": [
    "def compute_persistent_homology(data, max_dim=1, max_radius=200.0):  # Снижаем max_dim до 1\n",
    "    \"\"\"\n",
    "    Вычисление персистентных гомологий для данных.\n",
    "    \"\"\"\n",
    "    print(\"Вычисление персистентных гомологий...\")\n",
    "    \n",
    "    data_reduced = data\n",
    "    \n",
    "    sample_size = min(50, data_reduced.shape[0])\n",
    "    indices = np.random.choice(data_reduced.shape[0], sample_size, replace=False)\n",
    "    data_sample = data_reduced[indices]\n",
    "    \n",
    "    try:\n",
    "        # Вычисляем матрицу попарных расстояний\n",
    "        dist_matrix = squareform(pdist(data_sample))\n",
    "        \n",
    "        # Вычисляем персистентные гомологии с меньшим порогом\n",
    "        diagrams = ripser.ripser(dist_matrix, maxdim=max_dim, distance_matrix=True, thresh=max_radius)['dgms']\n",
    "        \n",
    "        print(f\"Вычислены диаграммы персистентности для размерностей от 0 до {max_dim}\")\n",
    "        return diagrams\n",
    "    except Exception as e:\n",
    "        print(f\"Ошибка при вычислении персистентных гомологий: {e}\")\n",
    "        return [np.array([]) for _ in range(max_dim + 1)]\n"
   ]
  },
  {
   "cell_type": "code",
   "execution_count": null,
   "metadata": {},
   "outputs": [],
   "source": [
    "def visualize_persistence_diagrams(diagrams):\n",
    "    \"\"\"\n",
    "    Визуализация персистентных диаграмм с проверкой на пустые диаграммы.\n",
    "    \"\"\"\n",
    "    fig, axes = plt.subplots(1, len(diagrams), figsize=(15, 5))\n",
    "    \n",
    "    for i, diagram in enumerate(diagrams):\n",
    "        if len(diagrams) == 1:\n",
    "            ax = axes\n",
    "        else:\n",
    "            ax = axes[i]\n",
    "        \n",
    "        if len(diagram) > 0:\n",
    "            persim.plot_diagrams(diagram, ax=ax, labels=[f'H{i}'])\n",
    "        else:\n",
    "            ax.plot([0, 1], [0, 1], 'k--')  \n",
    "            ax.set_xlim([0, 1])\n",
    "            ax.set_ylim([0, 1])\n",
    "        \n",
    "        ax.set_title(f'Персистентная диаграмма H{i}')\n",
    "        ax.set_xlabel('Рождение')\n",
    "        ax.set_ylabel('Смерть')\n",
    "    \n",
    "    plt.tight_layout()\n",
    "    plt.savefig('persistence_diagrams.png')\n",
    "    plt.close()\n",
    "    print(\"Персистентные диаграммы сохранены в файл persistence_diagrams.png\")\n",
    "    return fig\n"
   ]
  },
  {
   "cell_type": "code",
   "execution_count": 44,
   "metadata": {},
   "outputs": [],
   "source": [
    "def compute_topological_features(diagrams, n_landscapes=5, resolution=20):\n",
    "    \"\"\"\n",
    "    Вычисление топологических векторов признаков, с исправленной обработкой формата данных.\n",
    "    \"\"\"\n",
    "    features = []\n",
    "    \n",
    "    if all(len(diagram) == 0 for diagram in diagrams):\n",
    "        print(\"Все диаграммы пустые, создаем нулевой вектор признаков\")\n",
    "        return np.zeros(10)  \n",
    "    \n",
    "    print(\"Вычисление статистических признаков...\")\n",
    "    for dim, diagram in enumerate(diagrams):\n",
    "        if len(diagram) == 0:\n",
    "            features.append(np.zeros(6))  \n",
    "            continue\n",
    "        \n",
    "        persistences = np.array([death - birth for birth, death in diagram if birth != death])\n",
    "        \n",
    "        if len(persistences) == 0:\n",
    "            features.append(np.zeros(6))\n",
    "            continue\n",
    "            \n",
    "        stats = [\n",
    "            len(persistences), \n",
    "            np.sum(persistences),  \n",
    "            np.mean(persistences),  \n",
    "            np.std(persistences) if len(persistences) > 1 else 0, \n",
    "            np.max(persistences) if len(persistences) > 0 else 0,  \n",
    "            np.quantile(persistences, 0.75) if len(persistences) > 0 else 0  \n",
    "        ]\n",
    "        features.append(np.array(stats))\n",
    "    \n",
    "    try:\n",
    "        for dim, diagram in enumerate(diagrams):\n",
    "            if len(diagram) == 0 or all(birth == death for birth, death in diagram):\n",
    "                features.append(np.zeros(resolution * resolution))\n",
    "                continue\n",
    "                \n",
    "            filtered_diagram = np.array([point for point in diagram if point[0] != point[1]])\n",
    "            \n",
    "            if len(filtered_diagram) == 0:\n",
    "                features.append(np.zeros(resolution * resolution))\n",
    "                continue\n",
    "                \n",
    "            pim = persim.PersImage(pixels=(resolution, resolution), spread=0.1)\n",
    "            img = pim.transform(filtered_diagram)\n",
    "            features.append(img.flatten())\n",
    "                \n",
    "    except Exception as e:\n",
    "        print(f\"Ошибка при создании персистентных изображений: {e}\")\n",
    "    \n",
    "    if not features:\n",
    "        return np.zeros(10)\n",
    "        \n",
    "    features_arrays = []\n",
    "    for f in features:\n",
    "        if isinstance(f, np.ndarray):\n",
    "            features_arrays.append(f)\n",
    "        else:\n",
    "            features_arrays.append(np.array(f).flatten())\n",
    "    \n",
    "    try:\n",
    "        feature_vector = np.concatenate(features_arrays)\n",
    "    except ValueError as e:\n",
    "        print(f\"Ошибка при объединении признаков: {e}\")\n",
    "        if len(features) > 0 and isinstance(features[0], np.ndarray):\n",
    "            return features[0]\n",
    "        return np.zeros(10)\n",
    "    \n",
    "    print(f\"Создан вектор топологических признаков размерности {feature_vector.shape[0]}\")\n",
    "    \n",
    "    return feature_vector\n"
   ]
  },
  {
   "cell_type": "code",
   "execution_count": 45,
   "metadata": {},
   "outputs": [],
   "source": [
    "def compute_reeb_graph(data, filter_function=None, num_intervals=10):\n",
    "    \"\"\"\n",
    "    Упрощенная версия построения графа Риба для данных.\n",
    "    \"\"\"\n",
    "    print(\"Построение графа Риба...\")\n",
    "    \n",
    "    try:\n",
    "        if filter_function is None:\n",
    "            # Используем первую главную компоненту как функцию Морса\n",
    "            pca = PCA(n_components=1)\n",
    "            filter_values = pca.fit_transform(data).flatten()\n",
    "        else:\n",
    "            filter_values = filter_function(data)\n",
    "        \n",
    "        f_min, f_max = np.min(filter_values), np.max(filter_values)\n",
    "        \n",
    "        intervals = np.linspace(f_min, f_max, num_intervals + 1)\n",
    "        \n",
    "        G = nx.Graph()\n",
    "        \n",
    "        for i in range(num_intervals):\n",
    "            a_i, a_i_next = intervals[i], intervals[i+1]\n",
    "            node_id = f\"interval_{i}\"\n",
    "            \n",
    "            mask = (filter_values >= a_i) & (filter_values < a_i_next)\n",
    "            points_in_interval = np.where(mask)[0]\n",
    "            \n",
    "            G.add_node(node_id, \n",
    "                      level=i, \n",
    "                      size=len(points_in_interval),\n",
    "                      filter_value=(a_i + a_i_next)/2)\n",
    "        \n",
    "        for i in range(num_intervals-1):\n",
    "            G.add_edge(f\"interval_{i}\", f\"interval_{i+1}\")\n",
    "        \n",
    "        print(f\"Построен упрощенный граф Риба с {G.number_of_nodes()} вершинами и {G.number_of_edges()} рёбрами\")\n",
    "        return G\n",
    "    \n",
    "    except Exception as e:\n",
    "        print(f\"Ошибка при построении графа Риба: {e}\")\n",
    "        G = nx.Graph()\n",
    "        G.add_node(\"node1\", level=0, size=1, filter_value=0)\n",
    "        G.add_node(\"node2\", level=1, size=1, filter_value=1)\n",
    "        G.add_edge(\"node1\", \"node2\")\n",
    "        return G\n"
   ]
  },
  {
   "cell_type": "code",
   "execution_count": 46,
   "metadata": {},
   "outputs": [],
   "source": [
    "def visualize_reeb_graph(G):\n",
    "    \"\"\"\n",
    "    Визуализация графа Риба с цветовой шкалой.\n",
    "    \"\"\"\n",
    "    plt.figure(figsize=(12, 10))\n",
    "    \n",
    "    pos = {}\n",
    "    for node in G.nodes():\n",
    "        level = G.nodes[node]['level']\n",
    "        pos[node] = (np.random.random(), level)\n",
    "    \n",
    "    node_colors = [G.nodes[node]['filter_value'] for node in G.nodes()]\n",
    "    node_sizes = [100 * G.nodes[node]['size'] / max(1, np.max([G.nodes[n]['size'] for n in G.nodes()])) for node in G.nodes()]\n",
    "    \n",
    "    norm = plt.Normalize(vmin=min(node_colors), vmax=max(node_colors))\n",
    "    sm = plt.cm.ScalarMappable(cmap=plt.cm.viridis, norm=norm)\n",
    "    sm.set_array([])  \n",
    "    \n",
    "    nx.draw(G, pos, with_labels=True, node_color=node_colors, node_size=node_sizes, \n",
    "            edge_color='gray', width=1.0, alpha=0.8, cmap=plt.cm.viridis, \n",
    "            vmin=min(node_colors), vmax=max(node_colors))\n",
    "    \n",
    "    plt.title('Граф Риба для МРТ-данных')\n",
    "    plt.colorbar(sm, label='Значение фильтра')\n",
    "    plt.tight_layout()\n",
    "    plt.savefig('reeb_graph.png')\n",
    "    plt.close()\n",
    "    print(\"Граф Риба сохранен в файл reeb_graph.png\")\n"
   ]
  },
  {
   "cell_type": "code",
   "execution_count": null,
   "metadata": {},
   "outputs": [],
   "source": [
    "def visualize_topological_features_on_mri(diagram, data_sample, indices, threshold=0.7):\n",
    "    \"\"\"\n",
    "    Упрощенная визуализация МРТ-снимков без привязки к топологическим особенностям.\n",
    "    \"\"\"\n",
    "    try:\n",
    "        # Выбираем один образец для визуализации\n",
    "        if len(data_sample) > 0:\n",
    "            sample_idx = np.random.choice(len(data_sample))\n",
    "            \n",
    "            mri_3d = data_sample[sample_idx].reshape(target_shape)\n",
    "            \n",
    "            fig, axes = plt.subplots(1, 3, figsize=(15, 5))\n",
    "            \n",
    "            axes[0].imshow(mri_3d[:, :, mri_3d.shape[2]//2], cmap='gray')\n",
    "            axes[0].set_title('Аксиальный срез')\n",
    "            \n",
    "            axes[1].imshow(mri_3d[:, mri_3d.shape[1]//2, :], cmap='gray')\n",
    "            axes[1].set_title('Сагиттальный срез')\n",
    "            \n",
    "            axes[2].imshow(mri_3d[mri_3d.shape[0]//2, :, :], cmap='gray')\n",
    "            axes[2].set_title('Корональный срез')\n",
    "            \n",
    "            if len(diagram) == 0:\n",
    "                for ax in axes:\n",
    "                    ax.set_xlabel('Топологические особенности не обнаружены')\n",
    "            else:\n",
    "                for ax in axes:\n",
    "                    ax.set_xlabel('МРТ-снимок')\n",
    "            \n",
    "            plt.tight_layout()\n",
    "            plt.savefig('mri_visualization.png')\n",
    "            plt.close()\n",
    "            print(\"МРТ-снимок сохранен в файл mri_visualization.png\")\n",
    "    \n",
    "    except Exception as e:\n",
    "        print(f\"Ошибка при визуализации МРТ: {e}\")\n"
   ]
  },
  {
   "cell_type": "code",
   "execution_count": 47,
   "metadata": {},
   "outputs": [],
   "source": [
    "def visualize_reeb_graph_simple(G):\n",
    "    \"\"\"\n",
    "    Упрощенная визуализация графа Риба без цветовой шкалы.\n",
    "    \"\"\"\n",
    "    plt.figure(figsize=(10, 8))\n",
    "    \n",
    "    pos = {}\n",
    "    for node in G.nodes():\n",
    "        level = G.nodes[node]['level']\n",
    "        pos[node] = (np.random.random(), level)\n",
    "    \n",
    "    nx.draw(G, pos, with_labels=True, node_color='skyblue', \n",
    "            edge_color='gray', width=1.0, alpha=0.8)\n",
    "    \n",
    "    plt.title('Граф Риба для МРТ-данных')\n",
    "    plt.tight_layout()\n",
    "    plt.savefig('reeb_graph.png')\n",
    "    plt.close()\n",
    "    print(\"Граф Риба сохранен в файл reeb_graph.png\")\n"
   ]
  },
  {
   "cell_type": "code",
   "execution_count": 48,
   "metadata": {},
   "outputs": [
    {
     "name": "stdout",
     "output_type": "stream",
     "text": [
      "\n",
      "Анализ МРТ-данных с помощью топологических методов (выборка 50 образцов)...\n",
      "Вычисление персистентных гомологий...\n",
      "Вычислены диаграммы персистентности для размерностей от 0 до 1\n",
      "Персистентные диаграммы сохранены в файл persistence_diagrams.png\n",
      "Вычисление статистических признаков...\n",
      "PersImage(pixels=(20, 20), spread=0.1, specs=None, kernel_type=\"gaussian\", weighting_type=\"linear\")\n",
      "Создан вектор топологических признаков размерности 812\n",
      "Построение графа Риба...\n"
     ]
    },
    {
     "name": "stderr",
     "output_type": "stream",
     "text": [
      "/Users/dasidorov03/.pyenv/versions/3.11.4/lib/python3.11/site-packages/persim/visuals.py:155: UserWarning: Attempting to set identical low and high xlims makes transformation singular; automatically expanding.\n",
      "  ax.set_xlim([x_down, x_up])\n",
      "/Users/dasidorov03/.pyenv/versions/3.11.4/lib/python3.11/site-packages/persim/visuals.py:156: UserWarning: Attempting to set identical low and high ylims makes transformation singular; automatically expanding.\n",
      "  ax.set_ylim([y_down, y_up])\n"
     ]
    },
    {
     "name": "stdout",
     "output_type": "stream",
     "text": [
      "Построен упрощенный граф Риба с 10 вершинами и 9 рёбрами\n",
      "Ошибка при визуализации графа Риба: Unable to determine Axes to steal space for Colorbar. Either provide the *cax* argument to use as the Axes for the Colorbar, provide the *ax* argument to steal space from it, or add *mappable* to an Axes.\n",
      "Граф Риба сохранен в файл reeb_graph.png\n",
      "Нет топологических особенностей для визуализации\n"
     ]
    },
    {
     "name": "stderr",
     "output_type": "stream",
     "text": [
      "/var/folders/5q/n0q433m534zf37kj89fdxpbrpym2wh/T/ipykernel_99390/2366753153.py:16: UserWarning: This figure includes Axes that are not compatible with tight_layout, so results might be incorrect.\n",
      "  plt.tight_layout()\n"
     ]
    },
    {
     "name": "stdout",
     "output_type": "stream",
     "text": [
      "Сравнение МРТ сохранено в файл mri_comparison_no_features.png\n",
      "\n",
      "Топологический анализ МРТ-данных завершен!\n",
      "Получены топологические признаки размерности 812\n"
     ]
    },
    {
     "data": {
      "image/png": "[encoded data removed]",
      "text/plain": [
       "<Figure size 1200x1000 with 1 Axes>"
      ]
     },
     "metadata": {},
     "output_type": "display_data"
    }
   ],
   "source": [
    "def analyze_mri_with_topology(mri_data, sample_size=50):\n",
    "    \"\"\"\n",
    "    Анализ МРТ-данных с помощью топологических методов.\n",
    "    \n",
    "    Параметры:\n",
    "    - mri_data: МРТ-данные\n",
    "    - sample_size: размер выборки для анализа (если данных много)\n",
    "    \n",
    "    Возвращает:\n",
    "    - top_features: топологические признаки\n",
    "    \"\"\"\n",
    "    print(f\"\\nАнализ МРТ-данных с помощью топологических методов (выборка {sample_size} образцов)...\")\n",
    "    \n",
    "    if len(mri_data) > sample_size:\n",
    "        indices = np.random.choice(len(mri_data), sample_size, replace=False)\n",
    "        data_sample = mri_data[indices]\n",
    "    else:\n",
    "        data_sample = mri_data\n",
    "        indices = np.arange(len(mri_data))\n",
    "    \n",
    "    # Вычисляем персистентные гомологии\n",
    "    diagrams = compute_persistent_homology(data_sample)\n",
    "    \n",
    "    # Визуализируем персистентные диаграммы\n",
    "    visualize_persistence_diagrams(diagrams)\n",
    "    \n",
    "    # Вычисляем топологические признаки\n",
    "    top_features = compute_topological_features(diagrams)\n",
    "    \n",
    "    # Строим граф Риба\n",
    "    reeb_graph = compute_reeb_graph(data_sample)\n",
    "    \n",
    "    # Визуализируем граф Риба\n",
    "    try:\n",
    "        visualize_reeb_graph(reeb_graph)\n",
    "    except Exception as e:\n",
    "        print(f\"Ошибка при визуализации графа Риба: {e}\")\n",
    "        visualize_reeb_graph_simple(reeb_graph)\n",
    "    \n",
    "    visualize_topological_features_on_mri(diagrams[1], data_sample, indices)\n",
    "    \n",
    "    return top_features\n",
    "\n",
    "if __name__ == \"__main__\":\n",
    "    import warnings\n",
    "    warnings.filterwarnings(\"ignore\", category=RuntimeWarning)\n",
    "    warnings.filterwarnings(\"ignore\", category=DeprecationWarning)\n",
    "\n",
    "    # Анализируем МРТ-данные с помощью топологических методов\n",
    "    top_features = analyze_mri_with_topology(mri_data)\n",
    "    top_features = np.nan_to_num(top_features)\n",
    "    \n",
    "    print(\"\\nТопологический анализ МРТ-данных завершен!\")\n",
    "    print(f\"Получены топологические признаки размерности {len(top_features)}\")"
   ]
  }
 ],
 "metadata": {
  "kernelspec": {
   "display_name": "Python 3",
   "language": "python",
   "name": "python3"
  },
  "language_info": {
   "codemirror_mode": {
    "name": "ipython",
    "version": 3
   },
   "file_extension": ".py",
   "mimetype": "text/x-python",
   "name": "python",
   "nbconvert_exporter": "python",
   "pygments_lexer": "ipython3",
   "version": "3.11.4"
  }
 },
 "nbformat": 4,
 "nbformat_minor": 2
}
